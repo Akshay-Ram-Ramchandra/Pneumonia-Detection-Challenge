{
 "cells": [
  {
   "cell_type": "code",
   "execution_count": 1,
   "metadata": {},
   "outputs": [],
   "source": [
    "import datetime\n",
    "\n",
    "import numpy as np\n",
    "import pandas as pd\n",
    "\n",
    "import matplotlib.pyplot as plt\n",
    "\n",
    "import tensorflow as tf\n",
    "from tensorflow.keras.applications.mobilenet import preprocess_input\n",
    "from tensorflow.keras.layers import Concatenate, UpSampling2D, Conv2D, Reshape, Flatten, Dense, GlobalAveragePooling2D\n",
    "from tensorflow.keras.losses import MeanSquaredError\n",
    "from tensorflow.keras.metrics import MeanSquaredError\n",
    "from tensorflow.keras.callbacks import ModelCheckpoint, EarlyStopping, ReduceLROnPlateau\n",
    "from tensorflow.keras.preprocessing.image import ImageDataGenerator\n",
    "from tensorflow.keras.losses import BinaryCrossentropy\n",
    "\n",
    "from sklearn.model_selection import train_test_split\n",
    "\n",
    "from PIL import Image\n",
    "\n",
    "from tqdm import tqdm\n",
    "\n",
    "from matplotlib import pyplot"
   ]
  },
  {
   "cell_type": "code",
   "execution_count": 2,
   "metadata": {},
   "outputs": [],
   "source": [
    "#loading the final npyfile\n",
    "data = np.load(r'D:\\mobilenetnpy_files_real\\train_set_undooped-pit-tgt-img-b_box_rescaled_tgtis1.npy', \n",
    "               allow_pickle = True)"
   ]
  },
  {
   "cell_type": "code",
   "execution_count": 3,
   "metadata": {},
   "outputs": [],
   "source": [
    "df = pd.DataFrame(data)"
   ]
  },
  {
   "cell_type": "code",
   "execution_count": 4,
   "metadata": {},
   "outputs": [
    {
     "data": {
      "text/html": [
       "<div>\n",
       "<style scoped>\n",
       "    .dataframe tbody tr th:only-of-type {\n",
       "        vertical-align: middle;\n",
       "    }\n",
       "\n",
       "    .dataframe tbody tr th {\n",
       "        vertical-align: top;\n",
       "    }\n",
       "\n",
       "    .dataframe thead th {\n",
       "        text-align: right;\n",
       "    }\n",
       "</style>\n",
       "<table border=\"1\" class=\"dataframe\">\n",
       "  <thead>\n",
       "    <tr style=\"text-align: right;\">\n",
       "      <th></th>\n",
       "      <th>0</th>\n",
       "      <th>1</th>\n",
       "      <th>2</th>\n",
       "      <th>3</th>\n",
       "    </tr>\n",
       "  </thead>\n",
       "  <tbody>\n",
       "    <tr>\n",
       "      <th>0</th>\n",
       "      <td>00436515-870c-4b36-a041-de91049b9ab4</td>\n",
       "      <td>1</td>\n",
       "      <td>[[2, 3, 3, 3, 3, 2, 2, 2, 2, 2, 4, 4, 4, 5, 5,...</td>\n",
       "      <td>[57.75, 33.25, 46.59375, 46.59375, 122.9375, 3...</td>\n",
       "    </tr>\n",
       "    <tr>\n",
       "      <th>1</th>\n",
       "      <td>00704310-78a8-4b38-8475-49f4573b2dbb</td>\n",
       "      <td>1</td>\n",
       "      <td>[[40, 11, 2, 1, 1, 1, 1, 1, 1, 1, 2, 2, 2, 2, ...</td>\n",
       "      <td>[70.65625, 126.21875, 35.0, 35.0, 152.03125, 1...</td>\n",
       "    </tr>\n",
       "    <tr>\n",
       "      <th>2</th>\n",
       "      <td>00aecb01-a116-45a2-956c-08d2fa55433f</td>\n",
       "      <td>1</td>\n",
       "      <td>[[0, 0, 0, 0, 0, 0, 0, 0, 0, 0, 0, 0, 0, 0, 0,...</td>\n",
       "      <td>[63.0, 70.4375, 20.5625, 20.5625, 119.65625, 6...</td>\n",
       "    </tr>\n",
       "    <tr>\n",
       "      <th>3</th>\n",
       "      <td>00c0b293-48e7-4e16-ac76-9269ba535a62</td>\n",
       "      <td>1</td>\n",
       "      <td>[[0, 0, 0, 0, 0, 0, 0, 0, 0, 0, 0, 0, 0, 0, 0,...</td>\n",
       "      <td>[66.9375, 119.0, 36.75, 36.75, 142.1875, 111.7...</td>\n",
       "    </tr>\n",
       "    <tr>\n",
       "      <th>4</th>\n",
       "      <td>00f08de1-517e-4652-a04f-d1dc9ee48593</td>\n",
       "      <td>1</td>\n",
       "      <td>[[61, 63, 62, 73, 63, 60, 65, 67, 70, 71, 73, ...</td>\n",
       "      <td>[39.59375, 40.25, 45.0625, 45.0625, 124.90625,...</td>\n",
       "    </tr>\n",
       "    <tr>\n",
       "      <th>...</th>\n",
       "      <td>...</td>\n",
       "      <td>...</td>\n",
       "      <td>...</td>\n",
       "      <td>...</td>\n",
       "    </tr>\n",
       "    <tr>\n",
       "      <th>6007</th>\n",
       "      <td>c18d1138-ba74-4af5-af21-bdd4d2c96bb5</td>\n",
       "      <td>1</td>\n",
       "      <td>[[7, 11, 10, 10, 12, 9, 9, 9, 9, 8, 8, 9, 10, ...</td>\n",
       "      <td>[141.3125, 84.4375, 30.84375, 30.84375, 64.531...</td>\n",
       "    </tr>\n",
       "    <tr>\n",
       "      <th>6008</th>\n",
       "      <td>c1cddf32-b957-4753-acaa-472ab1447e86</td>\n",
       "      <td>1</td>\n",
       "      <td>[[1, 1, 1, 1, 1, 1, 1, 1, 1, 1, 1, 1, 1, 1, 1,...</td>\n",
       "      <td>[58.84375, 91.0, 42.21875, 42.21875, 167.5625,...</td>\n",
       "    </tr>\n",
       "    <tr>\n",
       "      <th>6009</th>\n",
       "      <td>c1e73a4e-7afe-4ec5-8af6-ce8315d7a2f2</td>\n",
       "      <td>1</td>\n",
       "      <td>[[23, 24, 24, 24, 23, 23, 23, 22, 22, 22, 22, ...</td>\n",
       "      <td>[145.6875, 91.4375, 40.6875, 40.6875, 69.125, ...</td>\n",
       "    </tr>\n",
       "    <tr>\n",
       "      <th>6010</th>\n",
       "      <td>c1ec14ff-f6d7-4b38-b0cb-fe07041cbdc8</td>\n",
       "      <td>1</td>\n",
       "      <td>[[2, 1, 1, 2, 3, 4, 5, 5, 4, 5, 4, 4, 5, 6, 5,...</td>\n",
       "      <td>[133.21875, 101.5, 52.5, 52.5, 40.46875, 65.18...</td>\n",
       "    </tr>\n",
       "    <tr>\n",
       "      <th>6011</th>\n",
       "      <td>c1f7889a-9ea9-4acb-b64c-b737c929599a</td>\n",
       "      <td>1</td>\n",
       "      <td>[[91, 128, 112, 120, 122, 111, 101, 89, 66, 57...</td>\n",
       "      <td>[124.6875, 85.96875, 57.09375, 57.09375, 50.96...</td>\n",
       "    </tr>\n",
       "  </tbody>\n",
       "</table>\n",
       "<p>6012 rows × 4 columns</p>\n",
       "</div>"
      ],
      "text/plain": [
       "                                         0  1  \\\n",
       "0     00436515-870c-4b36-a041-de91049b9ab4  1   \n",
       "1     00704310-78a8-4b38-8475-49f4573b2dbb  1   \n",
       "2     00aecb01-a116-45a2-956c-08d2fa55433f  1   \n",
       "3     00c0b293-48e7-4e16-ac76-9269ba535a62  1   \n",
       "4     00f08de1-517e-4652-a04f-d1dc9ee48593  1   \n",
       "...                                    ... ..   \n",
       "6007  c18d1138-ba74-4af5-af21-bdd4d2c96bb5  1   \n",
       "6008  c1cddf32-b957-4753-acaa-472ab1447e86  1   \n",
       "6009  c1e73a4e-7afe-4ec5-8af6-ce8315d7a2f2  1   \n",
       "6010  c1ec14ff-f6d7-4b38-b0cb-fe07041cbdc8  1   \n",
       "6011  c1f7889a-9ea9-4acb-b64c-b737c929599a  1   \n",
       "\n",
       "                                                      2  \\\n",
       "0     [[2, 3, 3, 3, 3, 2, 2, 2, 2, 2, 4, 4, 4, 5, 5,...   \n",
       "1     [[40, 11, 2, 1, 1, 1, 1, 1, 1, 1, 2, 2, 2, 2, ...   \n",
       "2     [[0, 0, 0, 0, 0, 0, 0, 0, 0, 0, 0, 0, 0, 0, 0,...   \n",
       "3     [[0, 0, 0, 0, 0, 0, 0, 0, 0, 0, 0, 0, 0, 0, 0,...   \n",
       "4     [[61, 63, 62, 73, 63, 60, 65, 67, 70, 71, 73, ...   \n",
       "...                                                 ...   \n",
       "6007  [[7, 11, 10, 10, 12, 9, 9, 9, 9, 8, 8, 9, 10, ...   \n",
       "6008  [[1, 1, 1, 1, 1, 1, 1, 1, 1, 1, 1, 1, 1, 1, 1,...   \n",
       "6009  [[23, 24, 24, 24, 23, 23, 23, 22, 22, 22, 22, ...   \n",
       "6010  [[2, 1, 1, 2, 3, 4, 5, 5, 4, 5, 4, 4, 5, 6, 5,...   \n",
       "6011  [[91, 128, 112, 120, 122, 111, 101, 89, 66, 57...   \n",
       "\n",
       "                                                      3  \n",
       "0     [57.75, 33.25, 46.59375, 46.59375, 122.9375, 3...  \n",
       "1     [70.65625, 126.21875, 35.0, 35.0, 152.03125, 1...  \n",
       "2     [63.0, 70.4375, 20.5625, 20.5625, 119.65625, 6...  \n",
       "3     [66.9375, 119.0, 36.75, 36.75, 142.1875, 111.7...  \n",
       "4     [39.59375, 40.25, 45.0625, 45.0625, 124.90625,...  \n",
       "...                                                 ...  \n",
       "6007  [141.3125, 84.4375, 30.84375, 30.84375, 64.531...  \n",
       "6008  [58.84375, 91.0, 42.21875, 42.21875, 167.5625,...  \n",
       "6009  [145.6875, 91.4375, 40.6875, 40.6875, 69.125, ...  \n",
       "6010  [133.21875, 101.5, 52.5, 52.5, 40.46875, 65.18...  \n",
       "6011  [124.6875, 85.96875, 57.09375, 57.09375, 50.96...  \n",
       "\n",
       "[6012 rows x 4 columns]"
      ]
     },
     "execution_count": 4,
     "metadata": {},
     "output_type": "execute_result"
    }
   ],
   "source": [
    "df"
   ]
  },
  {
   "cell_type": "markdown",
   "metadata": {},
   "source": [
    "0 is patient id X_train will the 2, which are the images and y will 3 which is the bb"
   ]
  },
  {
   "cell_type": "code",
   "execution_count": 5,
   "metadata": {},
   "outputs": [],
   "source": [
    "# pre-processing the input\n",
    "from tensorflow.keras.applications.mobilenet import preprocess_input\n",
    "\n",
    "df['imgs'] = df[2].map(lambda x: preprocess_input(x))"
   ]
  },
  {
   "cell_type": "code",
   "execution_count": 6,
   "metadata": {},
   "outputs": [],
   "source": [
    "X = df['imgs'].map(lambda x: np.expand_dims(x, axis = 2))"
   ]
  },
  {
   "cell_type": "code",
   "execution_count": 7,
   "metadata": {},
   "outputs": [
    {
     "data": {
      "text/plain": [
       "(224, 224, 1)"
      ]
     },
     "execution_count": 7,
     "metadata": {},
     "output_type": "execute_result"
    }
   ],
   "source": [
    "X[0].shape"
   ]
  },
  {
   "cell_type": "code",
   "execution_count": 8,
   "metadata": {},
   "outputs": [
    {
     "name": "stdout",
     "output_type": "stream",
     "text": [
      "[[-0.6862745  -0.9137255  -0.9843137  ... -0.9843137  -0.9843137\n",
      "  -0.99215686]\n",
      " [-0.7019608  -0.9137255  -0.9843137  ... -0.9843137  -0.9843137\n",
      "  -0.99215686]\n",
      " [-0.69411767 -0.9137255  -0.9843137  ... -0.9843137  -0.9843137\n",
      "  -0.99215686]\n",
      " ...\n",
      " [-0.75686276 -0.88235295 -0.92156863 ... -0.9764706  -0.94509804\n",
      "  -0.90588236]\n",
      " [-0.5764706  -0.7254902  -0.77254903 ... -0.9529412  -0.8901961\n",
      "  -0.827451  ]\n",
      " [-0.3098039  -0.45098037 -0.4980392  ... -0.8745098  -0.8039216\n",
      "  -0.7176471 ]]\n",
      "(224, 224)\n"
     ]
    },
    {
     "data": {
      "text/plain": [
       "<matplotlib.image.AxesImage at 0x26601d15b80>"
      ]
     },
     "execution_count": 8,
     "metadata": {},
     "output_type": "execute_result"
    },
    {
     "data": {
      "image/png": "[encoded data removed]",
      "text/plain": [
       "<Figure size 432x288 with 1 Axes>"
      ]
     },
     "metadata": {
      "needs_background": "light"
     },
     "output_type": "display_data"
    }
   ],
   "source": [
    "from matplotlib import pyplot\n",
    "n = 1\n",
    "print(df['imgs'][n])\n",
    "print(df['imgs'][n].shape)\n",
    "pyplot.imshow(df['imgs'][n])"
   ]
  },
  {
   "cell_type": "markdown",
   "metadata": {},
   "source": [
    "SWEET ! 🍬🍬🍬🍬\n",
    "\n",
    "everything seems good ! ✨✨"
   ]
  },
  {
   "cell_type": "code",
   "execution_count": 9,
   "metadata": {},
   "outputs": [
    {
     "data": {
      "text/plain": [
       "6012"
      ]
     },
     "execution_count": 9,
     "metadata": {},
     "output_type": "execute_result"
    }
   ],
   "source": [
    "df.shape[0]"
   ]
  },
  {
   "cell_type": "code",
   "execution_count": 10,
   "metadata": {},
   "outputs": [],
   "source": [
    "X1 = np.zeros((int(df.shape[0]),224, 224,1))"
   ]
  },
  {
   "cell_type": "code",
   "execution_count": 11,
   "metadata": {},
   "outputs": [],
   "source": [
    "for i in range(len(X)):\n",
    "    X1[i] = X[i]"
   ]
  },
  {
   "cell_type": "code",
   "execution_count": 12,
   "metadata": {},
   "outputs": [],
   "source": [
    "preds = np.zeros((int(df.shape[0]), 16))"
   ]
  },
  {
   "cell_type": "code",
   "execution_count": 13,
   "metadata": {},
   "outputs": [
    {
     "data": {
      "text/plain": [
       "array([ 57.75   ,  33.25   ,  46.59375,  46.59375, 122.9375 ,  33.25   ,\n",
       "        56.     ,  56.     ,   0.     ,   0.     ,   0.     ,   0.     ,\n",
       "         0.     ,   0.     ,   0.     ,   0.     ])"
      ]
     },
     "execution_count": 13,
     "metadata": {},
     "output_type": "execute_result"
    }
   ],
   "source": [
    "for i in range(len(df)):\n",
    "    for j in range(16):\n",
    "        preds[i][j] = df[3][i][j]\n",
    "        #print(type(y[i][j]))\n",
    "preds[0]"
   ]
  },
  {
   "cell_type": "code",
   "execution_count": 14,
   "metadata": {},
   "outputs": [],
   "source": [
    "preds_class = np.zeros((int(df.shape[0]), 1))"
   ]
  },
  {
   "cell_type": "code",
   "execution_count": 15,
   "metadata": {},
   "outputs": [
    {
     "data": {
      "text/plain": [
       "array([1.])"
      ]
     },
     "execution_count": 15,
     "metadata": {},
     "output_type": "execute_result"
    }
   ],
   "source": [
    "for i in range(len(df)):\n",
    "    for j in range(16):\n",
    "        preds_class[i] = df[1][i]\n",
    "        #print(type(y[i][j]))\n",
    "preds_class[0]"
   ]
  },
  {
   "cell_type": "code",
   "execution_count": 16,
   "metadata": {},
   "outputs": [],
   "source": [
    "df = None"
   ]
  },
  {
   "cell_type": "code",
   "execution_count": 17,
   "metadata": {},
   "outputs": [
    {
     "data": {
      "text/plain": [
       "(6012, 16)"
      ]
     },
     "execution_count": 17,
     "metadata": {},
     "output_type": "execute_result"
    }
   ],
   "source": [
    "preds.shape"
   ]
  },
  {
   "cell_type": "code",
   "execution_count": 18,
   "metadata": {},
   "outputs": [],
   "source": [
    "preds = tf.constant(preds, shape = (6012,16), dtype = tf.float64)"
   ]
  },
  {
   "cell_type": "code",
   "execution_count": 19,
   "metadata": {},
   "outputs": [],
   "source": [
    "preds_class = tf.constant(preds_class, shape = (6012,1), dtype = tf.float64)"
   ]
  },
  {
   "cell_type": "code",
   "execution_count": 20,
   "metadata": {},
   "outputs": [],
   "source": [
    "import tensorflow as tf\n",
    "from tensorflow import keras\n",
    "from tensorflow.keras.applications.mobilenet import MobileNet\n",
    "from tensorflow.keras.layers import Concatenate, UpSampling2D, Conv2D, Reshape, Flatten, Dense, GlobalAveragePooling2D, Input\n",
    "from tensorflow.keras.models import Model\n",
    "from tensorflow.keras.losses import MeanSquaredError\n"
   ]
  },
  {
   "cell_type": "code",
   "execution_count": 21,
   "metadata": {},
   "outputs": [],
   "source": [
    "mob_net = MobileNet(input_shape = (224,224,3), weights = 'imagenet', include_top= False) \n",
    "\n",
    "input_tensor = Input(shape=(224,224,1))\n",
    "x = Conv2D(3,(3,3),padding='same')(input_tensor)    # x has a dimension of (IMG_SIZE,IMG_SIZE,3)\n",
    "out = mob_net (x) \n",
    "\n",
    "model = Model(inputs=input_tensor,outputs=out)"
   ]
  },
  {
   "cell_type": "code",
   "execution_count": 22,
   "metadata": {},
   "outputs": [],
   "source": [
    "x = GlobalAveragePooling2D()(model.output)\n",
    "x = Dense(588,  activation = 'relu')(x)\n",
    "x = Dense(294, activation = 'relu')(x)\n",
    "x = Dense(147, activation = 'relu')(x)\n",
    "regr = Dense(16, activation = 'linear')(x)\n",
    "model1 = Model(inputs = model.input, outputs = regr, name = 'regr_op')"
   ]
  },
  {
   "cell_type": "code",
   "execution_count": 23,
   "metadata": {},
   "outputs": [],
   "source": [
    "clf = Dense(1, activation = 'sigmoid', name = 'clf_op')(x)\n",
    "modelCLF_REGR = Model(inputs = model1.input, outputs = [regr, clf])"
   ]
  },
  {
   "cell_type": "code",
   "execution_count": 24,
   "metadata": {},
   "outputs": [
    {
     "name": "stdout",
     "output_type": "stream",
     "text": [
      "Model: \"model_1\"\n",
      "__________________________________________________________________________________________________\n",
      "Layer (type)                    Output Shape         Param #     Connected to                     \n",
      "==================================================================================================\n",
      "input_2 (InputLayer)            [(None, 224, 224, 1) 0                                            \n",
      "__________________________________________________________________________________________________\n",
      "conv2d (Conv2D)                 (None, 224, 224, 3)  30          input_2[0][0]                    \n",
      "__________________________________________________________________________________________________\n",
      "mobilenet_1.00_224 (Model)      (None, 7, 7, 1024)   3228864     conv2d[0][0]                     \n",
      "__________________________________________________________________________________________________\n",
      "global_average_pooling2d (Globa (None, 1024)         0           mobilenet_1.00_224[1][0]         \n",
      "__________________________________________________________________________________________________\n",
      "dense (Dense)                   (None, 588)          602700      global_average_pooling2d[0][0]   \n",
      "__________________________________________________________________________________________________\n",
      "dense_1 (Dense)                 (None, 294)          173166      dense[0][0]                      \n",
      "__________________________________________________________________________________________________\n",
      "dense_2 (Dense)                 (None, 147)          43365       dense_1[0][0]                    \n",
      "__________________________________________________________________________________________________\n",
      "dense_3 (Dense)                 (None, 16)           2368        dense_2[0][0]                    \n",
      "__________________________________________________________________________________________________\n",
      "clf_op (Dense)                  (None, 1)            148         dense_2[0][0]                    \n",
      "==================================================================================================\n",
      "Total params: 4,050,641\n",
      "Trainable params: 4,028,753\n",
      "Non-trainable params: 21,888\n",
      "__________________________________________________________________________________________________\n"
     ]
    }
   ],
   "source": [
    "modelCLF_REGR.summary()"
   ]
  },
  {
   "cell_type": "code",
   "execution_count": 25,
   "metadata": {},
   "outputs": [],
   "source": [
    "from tensorflow.keras.losses import BinaryCrossentropy\n",
    "from tensorflow.keras.metrics import BinaryAccuracy"
   ]
  },
  {
   "cell_type": "code",
   "execution_count": 26,
   "metadata": {},
   "outputs": [],
   "source": [
    "optimizer = 'adam'\n",
    "modelCLF_REGR.compile(optimizer = optimizer,\n",
    "                loss = {'dense_3' : MeanSquaredError(), 'clf_op' : BinaryCrossentropy()},  \n",
    "                metrics = {'dense_3' :MeanSquaredError(), 'clf_op' :BinaryAccuracy()})"
   ]
  },
  {
   "cell_type": "code",
   "execution_count": 27,
   "metadata": {},
   "outputs": [],
   "source": [
    "from tensorflow.keras.callbacks import ModelCheckpoint, EarlyStopping, ReduceLROnPlateau\n",
    "import datetime\n",
    "\n",
    "\n",
    "checkpoint = ModelCheckpoint(\"model-{loss:.2f}.h5\", monitor = \"val_loss\", save_best_only = True,\n",
    "                             save_weights_only = True, mode = \"auto\")\n",
    "\n",
    "\n",
    "stop = EarlyStopping(monitor = \"val_dense_3_mean_squared_error\", patience = 5, mode = \"min\", \n",
    "                     restore_best_weights = True)\n",
    "\n",
    "\n",
    "reduce_lr = ReduceLROnPlateau(monitor = \"val_dense_3_mean_squared_error\", factor = 0.2, patience = 2, \n",
    "                              min_lr = 1e-6, mode = \"auto\")"
   ]
  },
  {
   "cell_type": "code",
   "execution_count": 28,
   "metadata": {},
   "outputs": [
    {
     "name": "stdout",
     "output_type": "stream",
     "text": [
      "Epoch 1/100\n",
      "301/301 [==============================] - 39s 128ms/step - loss: 631.9837 - dense_3_loss: 631.7765 - clf_op_loss: 0.2073 - dense_3_mean_squared_error: 631.7509 - clf_op_binary_accuracy: 0.9636 - val_loss: 575.3832 - val_dense_3_loss: 575.3832 - val_clf_op_loss: 2.8523e-07 - val_dense_3_mean_squared_error: 574.6342 - val_clf_op_binary_accuracy: 1.0000 - lr: 0.0010\n",
      "Epoch 2/100\n",
      "301/301 [==============================] - 38s 126ms/step - loss: 544.0223 - dense_3_loss: 544.0221 - clf_op_loss: 2.9174e-04 - dense_3_mean_squared_error: 544.0096 - clf_op_binary_accuracy: 1.0000 - val_loss: 599.8358 - val_dense_3_loss: 599.8333 - val_clf_op_loss: 0.0026 - val_dense_3_mean_squared_error: 597.7442 - val_clf_op_binary_accuracy: 1.0000 - lr: 0.0010\n",
      "Epoch 3/100\n",
      "301/301 [==============================] - 38s 126ms/step - loss: 518.6971 - dense_3_loss: 518.6967 - clf_op_loss: 4.1295e-04 - dense_3_mean_squared_error: 518.8724 - clf_op_binary_accuracy: 1.0000 - val_loss: 576.0008 - val_dense_3_loss: 576.0007 - val_clf_op_loss: 4.9769e-05 - val_dense_3_mean_squared_error: 574.2127 - val_clf_op_binary_accuracy: 1.0000 - lr: 0.0010\n",
      "Epoch 4/100\n",
      "301/301 [==============================] - 38s 126ms/step - loss: 494.5413 - dense_3_loss: 494.5411 - clf_op_loss: 2.1679e-04 - dense_3_mean_squared_error: 494.6591 - clf_op_binary_accuracy: 1.0000 - val_loss: 556.6173 - val_dense_3_loss: 556.6172 - val_clf_op_loss: 1.9410e-05 - val_dense_3_mean_squared_error: 554.9973 - val_clf_op_binary_accuracy: 1.0000 - lr: 0.0010\n",
      "Epoch 5/100\n",
      "301/301 [==============================] - 38s 127ms/step - loss: 470.5039 - dense_3_loss: 470.5036 - clf_op_loss: 4.4008e-04 - dense_3_mean_squared_error: 470.4516 - clf_op_binary_accuracy: 1.0000 - val_loss: 525.0692 - val_dense_3_loss: 525.0682 - val_clf_op_loss: 8.4847e-04 - val_dense_3_mean_squared_error: 522.4811 - val_clf_op_binary_accuracy: 1.0000 - lr: 0.0010\n",
      "Epoch 6/100\n",
      "301/301 [==============================] - 37s 124ms/step - loss: 432.4716 - dense_3_loss: 432.4714 - clf_op_loss: 1.7489e-04 - dense_3_mean_squared_error: 432.6233 - clf_op_binary_accuracy: 1.0000 - val_loss: 602.0024 - val_dense_3_loss: 602.0020 - val_clf_op_loss: 4.1305e-04 - val_dense_3_mean_squared_error: 599.3011 - val_clf_op_binary_accuracy: 1.0000 - lr: 0.0010\n",
      "Epoch 7/100\n",
      "301/301 [==============================] - 38s 127ms/step - loss: 397.4983 - dense_3_loss: 397.4983 - clf_op_loss: 5.0242e-05 - dense_3_mean_squared_error: 397.6411 - clf_op_binary_accuracy: 1.0000 - val_loss: 638.9695 - val_dense_3_loss: 638.9695 - val_clf_op_loss: 1.4054e-05 - val_dense_3_mean_squared_error: 638.0488 - val_clf_op_binary_accuracy: 1.0000 - lr: 0.0010\n",
      "Epoch 8/100\n",
      "301/301 [==============================] - 38s 126ms/step - loss: 296.7630 - dense_3_loss: 296.7630 - clf_op_loss: 7.1767e-06 - dense_3_mean_squared_error: 296.5805 - clf_op_binary_accuracy: 1.0000 - val_loss: 611.1748 - val_dense_3_loss: 611.1747 - val_clf_op_loss: 1.4129e-05 - val_dense_3_mean_squared_error: 608.3192 - val_clf_op_binary_accuracy: 1.0000 - lr: 2.0000e-04\n",
      "Epoch 9/100\n",
      "301/301 [==============================] - 38s 126ms/step - loss: 248.2602 - dense_3_loss: 248.2602 - clf_op_loss: 1.9555e-06 - dense_3_mean_squared_error: 248.0535 - clf_op_binary_accuracy: 1.0000 - val_loss: 639.1030 - val_dense_3_loss: 639.1030 - val_clf_op_loss: 7.2574e-07 - val_dense_3_mean_squared_error: 635.4824 - val_clf_op_binary_accuracy: 1.0000 - lr: 2.0000e-04\n",
      "Epoch 10/100\n",
      "301/301 [==============================] - 38s 126ms/step - loss: 202.0850 - dense_3_loss: 202.0850 - clf_op_loss: 5.0173e-07 - dense_3_mean_squared_error: 202.1026 - clf_op_binary_accuracy: 1.0000 - val_loss: 643.0269 - val_dense_3_loss: 643.0269 - val_clf_op_loss: 1.0364e-06 - val_dense_3_mean_squared_error: 639.0164 - val_clf_op_binary_accuracy: 1.0000 - lr: 4.0000e-05\n"
     ]
    }
   ],
   "source": [
    "history = modelCLF_REGR.fit(X1, [preds, preds_class],\n",
    "                      validation_split = 0.2,\n",
    "                      batch_size = 16,\n",
    "                      epochs=100, \n",
    "                      callbacks=[checkpoint, reduce_lr, stop],\n",
    "                     )"
   ]
  },
  {
   "cell_type": "code",
   "execution_count": 29,
   "metadata": {},
   "outputs": [
    {
     "name": "stdout",
     "output_type": "stream",
     "text": [
      "dict_keys(['loss', 'dense_3_loss', 'clf_op_loss', 'dense_3_mean_squared_error', 'clf_op_binary_accuracy', 'val_loss', 'val_dense_3_loss', 'val_clf_op_loss', 'val_dense_3_mean_squared_error', 'val_clf_op_binary_accuracy', 'lr'])\n"
     ]
    }
   ],
   "source": [
    "print(history.history.keys())"
   ]
  },
  {
   "cell_type": "code",
   "execution_count": 30,
   "metadata": {},
   "outputs": [
    {
     "data": {
      "image/png": "[encoded data removed]",
      "text/plain": [
       "<Figure size 432x288 with 1 Axes>"
      ]
     },
     "metadata": {
      "needs_background": "light"
     },
     "output_type": "display_data"
    }
   ],
   "source": [
    "plt.plot(history.history['dense_3_loss'])\n",
    "plt.plot(history.history['val_dense_3_loss'])\n",
    "plt.title('MSE by Epochs - BBox regression Loss')\n",
    "plt.ylabel('MSE')\n",
    "plt.xlabel('Epoch')\n",
    "plt.legend(['train', 'test'], loc='upper left')\n",
    "plt.show()"
   ]
  },
  {
   "cell_type": "code",
   "execution_count": 31,
   "metadata": {},
   "outputs": [
    {
     "data": {
      "image/png": "[encoded data removed]",
      "text/plain": [
       "<Figure size 432x288 with 1 Axes>"
      ]
     },
     "metadata": {
      "needs_background": "light"
     },
     "output_type": "display_data"
    }
   ],
   "source": [
    "plt.plot(history.history['clf_op_loss'])\n",
    "plt.plot(history.history['val_clf_op_loss'])\n",
    "plt.title('Binary Cross Entropy by Epochs')\n",
    "plt.ylabel('BinaryCrEntropy')\n",
    "plt.xlabel('Epoch')\n",
    "plt.legend(['train', 'test'], loc='upper left')\n",
    "plt.show()"
   ]
  },
  {
   "cell_type": "code",
   "execution_count": 32,
   "metadata": {},
   "outputs": [
    {
     "data": {
      "image/png": "[encoded data removed]",
      "text/plain": [
       "<Figure size 432x288 with 1 Axes>"
      ]
     },
     "metadata": {
      "needs_background": "light"
     },
     "output_type": "display_data"
    }
   ],
   "source": [
    "plt.plot(history.history['clf_op_binary_accuracy'])\n",
    "plt.plot(history.history['val_clf_op_binary_accuracy'])\n",
    "plt.title('Binary Accuracy by Epochs')\n",
    "plt.ylabel('BinaryAccuracy')\n",
    "plt.xlabel('Epoch')\n",
    "plt.legend(['train', 'test'], loc='lower right')\n",
    "plt.show()\n"
   ]
  }
 ],
 "metadata": {
  "kernelspec": {
   "display_name": "Python 3",
   "language": "python",
   "name": "python3"
  },
  "language_info": {
   "codemirror_mode": {
    "name": "ipython",
    "version": 3
   },
   "file_extension": ".py",
   "mimetype": "text/x-python",
   "name": "python",
   "nbconvert_exporter": "python",
   "pygments_lexer": "ipython3",
   "version": "3.8.3"
  }
 },
 "nbformat": 4,
 "nbformat_minor": 4
}
