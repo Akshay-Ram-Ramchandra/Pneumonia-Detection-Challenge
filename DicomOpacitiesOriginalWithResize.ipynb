{
 "cells": [
  {
   "cell_type": "code",
   "execution_count": 1,
   "metadata": {},
   "outputs": [],
   "source": [
    "import numpy as np\n",
    "import pandas as pd\n",
    "import pydicom as dicom\n",
    "from PIL import Image\n",
    "import matplotlib.pyplot as plt\n",
    "import os\n",
    "import csv\n",
    "from csv import writer\n",
    "from tqdm import tqdm\n",
    "import tryy\n",
    "import cv2\n",
    "import npydicom"
   ]
  },
  {
   "cell_type": "code",
   "execution_count": 2,
   "metadata": {},
   "outputs": [],
   "source": [
    "#paths on pc\n",
    "train_dir = r'C:\\Users\\offic\\Documents\\GitStuff\\cv capstone\\stage_2_train_images'\n",
    "folder_path = r'C:\\Users\\offic\\Documents\\GitStuff\\cv capstone\\stage_2_train_images'\n",
    "imgs = os.listdir(folder_path)"
   ]
  },
  {
   "cell_type": "markdown",
   "metadata": {},
   "source": [
    "# Trial;"
   ]
  },
  {
   "cell_type": "code",
   "execution_count": 10,
   "metadata": {},
   "outputs": [],
   "source": [
    "a = dicom.read_file(r'C:\\Users\\offic\\Documents\\GitStuff\\cv capstone\\stage_2_train_images' + '\\\\' + imgs[0])"
   ]
  },
  {
   "cell_type": "code",
   "execution_count": 11,
   "metadata": {},
   "outputs": [
    {
     "data": {
      "text/plain": [
       "<bound method Dataset.keys of Dataset.file_meta -------------------------------\n",
       "(0002, 0000) File Meta Information Group Length  UL: 202\n",
       "(0002, 0001) File Meta Information Version       OB: b'\\x00\\x01'\n",
       "(0002, 0002) Media Storage SOP Class UID         UI: Secondary Capture Image Storage\n",
       "(0002, 0003) Media Storage SOP Instance UID      UI: 1.2.276.0.7230010.3.1.4.8323329.28530.1517874485.775526\n",
       "(0002, 0010) Transfer Syntax UID                 UI: JPEG Baseline (Process 1)\n",
       "(0002, 0012) Implementation Class UID            UI: 1.2.276.0.7230010.3.0.3.6.0\n",
       "(0002, 0013) Implementation Version Name         SH: 'OFFIS_DCMTK_360'\n",
       "-------------------------------------------------\n",
       "(0008, 0005) Specific Character Set              CS: 'ISO_IR 100'\n",
       "(0008, 0016) SOP Class UID                       UI: Secondary Capture Image Storage\n",
       "(0008, 0018) SOP Instance UID                    UI: 1.2.276.0.7230010.3.1.4.8323329.28530.1517874485.775526\n",
       "(0008, 0020) Study Date                          DA: '19010101'\n",
       "(0008, 0030) Study Time                          TM: '000000.00'\n",
       "(0008, 0050) Accession Number                    SH: ''\n",
       "(0008, 0060) Modality                            CS: 'CR'\n",
       "(0008, 0064) Conversion Type                     CS: 'WSD'\n",
       "(0008, 0090) Referring Physician's Name          PN: ''\n",
       "(0008, 103e) Series Description                  LO: 'view: PA'\n",
       "(0010, 0010) Patient's Name                      PN: '0004cfab-14fd-4e49-80ba-63a80b6bddd6'\n",
       "(0010, 0020) Patient ID                          LO: '0004cfab-14fd-4e49-80ba-63a80b6bddd6'\n",
       "(0010, 0030) Patient's Birth Date                DA: ''\n",
       "(0010, 0040) Patient's Sex                       CS: 'F'\n",
       "(0010, 1010) Patient's Age                       AS: '51'\n",
       "(0018, 0015) Body Part Examined                  CS: 'CHEST'\n",
       "(0018, 5101) View Position                       CS: 'PA'\n",
       "(0020, 000d) Study Instance UID                  UI: 1.2.276.0.7230010.3.1.2.8323329.28530.1517874485.775525\n",
       "(0020, 000e) Series Instance UID                 UI: 1.2.276.0.7230010.3.1.3.8323329.28530.1517874485.775524\n",
       "(0020, 0010) Study ID                            SH: ''\n",
       "(0020, 0011) Series Number                       IS: \"1\"\n",
       "(0020, 0013) Instance Number                     IS: \"1\"\n",
       "(0020, 0020) Patient Orientation                 CS: ''\n",
       "(0028, 0002) Samples per Pixel                   US: 1\n",
       "(0028, 0004) Photometric Interpretation          CS: 'MONOCHROME2'\n",
       "(0028, 0010) Rows                                US: 1024\n",
       "(0028, 0011) Columns                             US: 1024\n",
       "(0028, 0030) Pixel Spacing                       DS: [0.14300000000000002, 0.14300000000000002]\n",
       "(0028, 0100) Bits Allocated                      US: 8\n",
       "(0028, 0101) Bits Stored                         US: 8\n",
       "(0028, 0102) High Bit                            US: 7\n",
       "(0028, 0103) Pixel Representation                US: 0\n",
       "(0028, 2110) Lossy Image Compression             CS: '01'\n",
       "(0028, 2114) Lossy Image Compression Method      CS: 'ISO_10918_1'\n",
       "(7fe0, 0010) Pixel Data                          OB: Array of 142006 elements>"
      ]
     },
     "execution_count": 11,
     "metadata": {},
     "output_type": "execute_result"
    }
   ],
   "source": [
    "a.keys"
   ]
  },
  {
   "cell_type": "code",
   "execution_count": 12,
   "metadata": {},
   "outputs": [],
   "source": [
    "fimg = a.pixel_array"
   ]
  },
  {
   "cell_type": "code",
   "execution_count": 13,
   "metadata": {},
   "outputs": [
    {
     "data": {
      "text/plain": [
       "(1024, 1024)"
      ]
     },
     "execution_count": 13,
     "metadata": {},
     "output_type": "execute_result"
    }
   ],
   "source": [
    "fimg.shape"
   ]
  },
  {
   "cell_type": "code",
   "execution_count": 15,
   "metadata": {},
   "outputs": [],
   "source": [
    "PIL_image = Image.fromarray(fimg)"
   ]
  },
  {
   "cell_type": "code",
   "execution_count": 16,
   "metadata": {},
   "outputs": [],
   "source": [
    "PIL_image.show()"
   ]
  },
  {
   "cell_type": "code",
   "execution_count": 17,
   "metadata": {},
   "outputs": [],
   "source": [
    "resize = PIL_image.resize((224,224))"
   ]
  },
  {
   "cell_type": "code",
   "execution_count": 18,
   "metadata": {},
   "outputs": [],
   "source": [
    "resize.show()"
   ]
  },
  {
   "cell_type": "code",
   "execution_count": 19,
   "metadata": {},
   "outputs": [],
   "source": [
    "array = np.array(resize)"
   ]
  },
  {
   "cell_type": "code",
   "execution_count": 20,
   "metadata": {},
   "outputs": [
    {
     "data": {
      "text/plain": [
       "(224, 224)"
      ]
     },
     "execution_count": 20,
     "metadata": {},
     "output_type": "execute_result"
    }
   ],
   "source": [
    "array.shape"
   ]
  },
  {
   "cell_type": "code",
   "execution_count": 6,
   "metadata": {},
   "outputs": [
    {
     "data": {
      "text/plain": [
       "['AccessionNumber',\n",
       " 'BitsAllocated',\n",
       " 'BitsStored',\n",
       " 'BodyPartExamined',\n",
       " 'Columns',\n",
       " 'ConversionType',\n",
       " 'HighBit',\n",
       " 'InstanceNumber',\n",
       " 'LossyImageCompression',\n",
       " 'LossyImageCompressionMethod',\n",
       " 'Modality',\n",
       " 'PatientAge',\n",
       " 'PatientBirthDate',\n",
       " 'PatientID',\n",
       " 'PatientName',\n",
       " 'PatientOrientation',\n",
       " 'PatientSex',\n",
       " 'PhotometricInterpretation',\n",
       " 'PixelData',\n",
       " 'PixelRepresentation',\n",
       " 'PixelSpacing',\n",
       " 'ReferringPhysicianName',\n",
       " 'Rows',\n",
       " 'SOPClassUID',\n",
       " 'SOPInstanceUID',\n",
       " 'SamplesPerPixel',\n",
       " 'SeriesDescription',\n",
       " 'SeriesInstanceUID',\n",
       " 'SeriesNumber',\n",
       " 'SpecificCharacterSet',\n",
       " 'StudyDate',\n",
       " 'StudyID',\n",
       " 'StudyInstanceUID',\n",
       " 'StudyTime',\n",
       " 'ViewPosition']"
      ]
     },
     "execution_count": 6,
     "metadata": {},
     "output_type": "execute_result"
    }
   ],
   "source": [
    "a.dir()"
   ]
  },
  {
   "cell_type": "code",
   "execution_count": 7,
   "metadata": {},
   "outputs": [],
   "source": [
    "#metadata is the list of keys\n",
    "# this will be the column names\n",
    "metadata = []"
   ]
  },
  {
   "cell_type": "code",
   "execution_count": 8,
   "metadata": {},
   "outputs": [
    {
     "name": "stdout",
     "output_type": "stream",
     "text": [
      "0 AccessionNumber\n",
      "1 BitsAllocated\n",
      "2 BitsStored\n",
      "3 BodyPartExamined\n",
      "4 Columns\n",
      "5 ConversionType\n",
      "6 HighBit\n",
      "7 InstanceNumber\n",
      "8 LossyImageCompression\n",
      "9 LossyImageCompressionMethod\n",
      "10 Modality\n",
      "11 PatientAge\n",
      "12 PatientBirthDate\n",
      "13 PatientID\n",
      "14 PatientName\n",
      "15 PatientOrientation\n",
      "16 PatientSex\n",
      "17 PhotometricInterpretation\n",
      "18 PixelData\n",
      "19 PixelRepresentation\n",
      "20 PixelSpacing\n",
      "21 ReferringPhysicianName\n",
      "22 Rows\n",
      "23 SOPClassUID\n",
      "24 SOPInstanceUID\n",
      "25 SamplesPerPixel\n",
      "26 SeriesDescription\n",
      "27 SeriesInstanceUID\n",
      "28 SeriesNumber\n",
      "29 SpecificCharacterSet\n",
      "30 StudyDate\n",
      "31 StudyID\n",
      "32 StudyInstanceUID\n",
      "33 StudyTime\n",
      "34 ViewPosition\n"
     ]
    }
   ],
   "source": [
    "#adding the keys to the list\n",
    "for n,i in enumerate(a.dir()):\n",
    "    print(n,i)\n",
    "    metadata.append(i)"
   ]
  },
  {
   "cell_type": "code",
   "execution_count": 12,
   "metadata": {
    "scrolled": true
   },
   "outputs": [],
   "source": [
    "with open('new.csv', 'w', newline = '') as f:\n",
    "    thewriter = writer(f)\n",
    "    thewriter.writerow(metadata)\n",
    "    for i in imgs:\n",
    "        #iterating through each file and writing all the metadata to a csv row-wise\n",
    "        a = dicom.read_file(r'C:\\Users\\offic\\Documents\\GitStuff\\cv capstone\\stage_2_train_images' + '\\\\' + i, force = True) \n",
    "        app = []\n",
    "        for j in metadata:\n",
    "            app.append(tryy.tryer(a, j))            \n",
    "        thewriter.writerow(app)    "
   ]
  },
  {
   "cell_type": "code",
   "execution_count": 8,
   "metadata": {},
   "outputs": [
    {
     "name": "stderr",
     "output_type": "stream",
     "text": [
      "C:\\Users\\offic\\AppData\\Local\\Programs\\Python\\Python38\\lib\\site-packages\\IPython\\core\\interactiveshell.py:3062: DtypeWarning: Columns (0,1,2,4,6,7,8,11,12,15,19,21,22,25,28,30,31,33) have mixed types.Specify dtype option on import or set low_memory=False.\n",
      "  has_raised = await self.run_ast_nodes(code_ast.body, cell_name,\n"
     ]
    }
   ],
   "source": [
    "a = pd.read_csv('new.csv')"
   ]
  },
  {
   "cell_type": "code",
   "execution_count": 9,
   "metadata": {},
   "outputs": [
    {
     "data": {
      "text/plain": [
       "Index(['AccessionNumber', 'BitsAllocated', 'BitsStored', 'BodyPartExamined',\n",
       "       'Columns', 'ConversionType', 'HighBit', 'InstanceNumber',\n",
       "       'LossyImageCompression', 'LossyImageCompressionMethod', 'Modality',\n",
       "       'PatientAge', 'PatientBirthDate', 'PatientID', 'PatientName',\n",
       "       'PatientOrientation', 'PatientSex', 'PhotometricInterpretation',\n",
       "       'PixelData', 'PixelRepresentation', 'PixelSpacing',\n",
       "       'ReferringPhysicianName', 'Rows', 'SOPClassUID', 'SOPInstanceUID',\n",
       "       'SamplesPerPixel', 'SeriesDescription', 'SeriesInstanceUID',\n",
       "       'SeriesNumber', 'SpecificCharacterSet', 'StudyDate', 'StudyID',\n",
       "       'StudyInstanceUID', 'StudyTime', 'ViewPosition'],\n",
       "      dtype='object')"
      ]
     },
     "execution_count": 9,
     "metadata": {},
     "output_type": "execute_result"
    }
   ],
   "source": [
    "a.columns"
   ]
  },
  {
   "cell_type": "markdown",
   "metadata": {},
   "source": [
    "Working on images and patient id alone;"
   ]
  },
  {
   "cell_type": "code",
   "execution_count": 3,
   "metadata": {},
   "outputs": [],
   "source": [
    "alist = ['PatientID', 'pixel_array']"
   ]
  },
  {
   "cell_type": "code",
   "execution_count": 4,
   "metadata": {},
   "outputs": [],
   "source": [
    "resized = {'PatientID' : [], 'pixel_array' : []}"
   ]
  },
  {
   "cell_type": "code",
   "execution_count": 21,
   "metadata": {},
   "outputs": [
    {
     "data": {
      "text/plain": [
       "dict_keys"
      ]
     },
     "execution_count": 21,
     "metadata": {},
     "output_type": "execute_result"
    }
   ],
   "source": [
    "type(a)"
   ]
  },
  {
   "cell_type": "code",
   "execution_count": 5,
   "metadata": {},
   "outputs": [
    {
     "name": "stdout",
     "output_type": "stream",
     "text": [
      "saving to; D:\\capstone_npyfiles\\trial.npy\n",
      "clearning memory\n"
     ]
    }
   ],
   "source": [
    "npydicom.img_to_npy(imgs, \n",
    "                    dcti = resized, \n",
    "                    im_path = r'C:\\Users\\offic\\Documents\\GitStuff\\cv capstone\\stage_2_train_images',\n",
    "                    op_path = r\"D:\\capstone_npyfiles\\resizedimages.npy\",\n",
    "                    size = (224,224)\n",
    "                   )"
   ]
  },
  {
   "cell_type": "markdown",
   "metadata": {},
   "source": [
    "Test Images"
   ]
  },
  {
   "cell_type": "code",
   "execution_count": 50,
   "metadata": {},
   "outputs": [],
   "source": [
    "testdir = r'C:\\Users\\offic\\Documents\\GitStuff\\cv capstone\\stage_2_test_images'"
   ]
  },
  {
   "cell_type": "code",
   "execution_count": 51,
   "metadata": {},
   "outputs": [],
   "source": [
    "test_imgs = os.listdir(testdir)"
   ]
  },
  {
   "cell_type": "code",
   "execution_count": 53,
   "metadata": {},
   "outputs": [
    {
     "data": {
      "text/plain": [
       "3000"
      ]
     },
     "execution_count": 53,
     "metadata": {},
     "output_type": "execute_result"
    }
   ],
   "source": [
    "len(test_imgs)"
   ]
  },
  {
   "cell_type": "code",
   "execution_count": 54,
   "metadata": {},
   "outputs": [],
   "source": [
    "with open('newtest.csv', 'w', newline = '') as f:\n",
    "    thewriter = writer(f)\n",
    "    thewriter.writerow(metadata)\n",
    "    for i in test_imgs:\n",
    "        #iterating through each file and writing all the metadata to a csv row-wise\n",
    "        a = dicom.read_file(os.path.join(testdir, i), force = True) \n",
    "        app = []\n",
    "        for j in metadata:\n",
    "            app.append(tryy.tryer(a, j))            \n",
    "        thewriter.writerow(app)    "
   ]
  },
  {
   "cell_type": "code",
   "execution_count": 55,
   "metadata": {},
   "outputs": [],
   "source": [
    "test = pd.read_csv('newtest.csv')"
   ]
  },
  {
   "cell_type": "code",
   "execution_count": 56,
   "metadata": {},
   "outputs": [],
   "source": [
    "np.save('test', c)"
   ]
  },
  {
   "cell_type": "code",
   "execution_count": 79,
   "metadata": {},
   "outputs": [],
   "source": [
    "test = pd.read_csv('newtest.csv')"
   ]
  },
  {
   "cell_type": "code",
   "execution_count": 81,
   "metadata": {},
   "outputs": [
    {
     "data": {
      "text/plain": [
       "Index(['AccessionNumber', 'BitsAllocated', 'BitsStored', 'BodyPartExamined',\n",
       "       'Columns', 'ConversionType', 'HighBit', 'InstanceNumber',\n",
       "       'LossyImageCompression', 'LossyImageCompressionMethod', 'Modality',\n",
       "       'PatientAge', 'PatientBirthDate', 'PatientID', 'PatientName',\n",
       "       'PatientOrientation', 'PatientSex', 'PhotometricInterpretation',\n",
       "       'PixelData', 'PixelRepresentation', 'PixelSpacing',\n",
       "       'ReferringPhysicianName', 'Rows', 'SOPClassUID', 'SOPInstanceUID',\n",
       "       'SamplesPerPixel', 'SeriesDescription', 'SeriesInstanceUID',\n",
       "       'SeriesNumber', 'SpecificCharacterSet', 'StudyDate', 'StudyID',\n",
       "       'StudyInstanceUID', 'StudyTime', 'ViewPosition'],\n",
       "      dtype='object')"
      ]
     },
     "execution_count": 81,
     "metadata": {},
     "output_type": "execute_result"
    }
   ],
   "source": [
    "test.columns"
   ]
  },
  {
   "cell_type": "markdown",
   "metadata": {},
   "source": [
    "## Now for the test images"
   ]
  },
  {
   "cell_type": "code",
   "execution_count": 28,
   "metadata": {},
   "outputs": [],
   "source": [
    "test_imgs = os.listdir(r'C:\\Users\\offic\\Documents\\GitStuff\\cv capstone\\stage_2_test_images')"
   ]
  },
  {
   "cell_type": "code",
   "execution_count": 36,
   "metadata": {},
   "outputs": [],
   "source": [
    "pat_tst = {'PatientID' : [], 'pixel_array' : []}"
   ]
  },
  {
   "cell_type": "code",
   "execution_count": 37,
   "metadata": {},
   "outputs": [
    {
     "name": "stdout",
     "output_type": "stream",
     "text": [
      "saving to; D:\\capstone_npyfiles\\testtest.npy\n",
      "clearning memory\n"
     ]
    }
   ],
   "source": [
    "npydicom.img_to_npy(test_imgs, \n",
    "                    dcti = pat_tst, \n",
    "                    im_path = r'C:\\Users\\offic\\Documents\\GitStuff\\cv capstone\\stage_2_test_images',\n",
    "                    op_path = r\"D:\\capstone_npyfiles\\testtest.npy\",\n",
    "                    size = (224,224)\n",
    "                   )"
   ]
  }
 ],
 "metadata": {
  "kernelspec": {
   "display_name": "Python 3",
   "language": "python",
   "name": "python3"
  },
  "language_info": {
   "codemirror_mode": {
    "name": "ipython",
    "version": 3
   },
   "file_extension": ".py",
   "mimetype": "text/x-python",
   "name": "python",
   "nbconvert_exporter": "python",
   "pygments_lexer": "ipython3",
   "version": "3.8.3"
  }
 },
 "nbformat": 4,
 "nbformat_minor": 4
}
